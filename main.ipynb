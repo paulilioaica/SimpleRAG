{
 "cells": [
  {
   "cell_type": "code",
   "execution_count": 1,
   "metadata": {},
   "outputs": [
    {
     "name": "stdout",
     "output_type": "stream",
     "text": [
      "Most text is 1, Cosine Similarity: this is a test\n"
     ]
    }
   ],
   "source": [
    "from local_vector_db import VectorDatabase\n",
    "import numpy as np\n",
    "db = VectorDatabase()\n",
    "\n",
    "db.insert_vector(\"this is a test\", np.array([0.1, 0.2, 0.3]))\n",
    "db.insert_vector(\"this is another test\", np.array([0.4, 0.5, 0.6]))\n",
    "\n",
    "query_vector = np.array([0.1, 0.2, 0.3])\n",
    "most_similar = db.find_most_similar(query_vector)\n",
    "\n",
    "print(f'Most text is {most_similar[0][0]}, Cosine Similarity: {most_similar[0][1]}')\n",
    "\n",
    "db.close()\n"
   ]
  }
 ],
 "metadata": {
  "kernelspec": {
   "display_name": "Python 3",
   "language": "python",
   "name": "python3"
  },
  "language_info": {
   "codemirror_mode": {
    "name": "ipython",
    "version": 3
   },
   "file_extension": ".py",
   "mimetype": "text/x-python",
   "name": "python",
   "nbconvert_exporter": "python",
   "pygments_lexer": "ipython3",
   "version": "3.12.6"
  }
 },
 "nbformat": 4,
 "nbformat_minor": 2
}
