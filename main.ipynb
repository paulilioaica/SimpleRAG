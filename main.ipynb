{
 "cells": [
  {
   "cell_type": "code",
   "execution_count": 2,
   "metadata": {},
   "outputs": [
    {
     "name": "stderr",
     "output_type": "stream",
     "text": [
      "C:\\Users\\paulilioaica\\AppData\\Local\\Packages\\PythonSoftwareFoundation.Python.3.12_qbz5n2kfra8p0\\LocalCache\\local-packages\\Python312\\site-packages\\tqdm\\auto.py:21: TqdmWarning: IProgress not found. Please update jupyter and ipywidgets. See https://ipywidgets.readthedocs.io/en/stable/user_install.html\n",
      "  from .autonotebook import tqdm as notebook_tqdm\n"
     ]
    }
   ],
   "source": [
    "from rag import RAG_ChatBot\n",
    "\n",
    "\n",
    "chatbot = RAG_ChatBot()"
   ]
  },
  {
   "cell_type": "code",
   "execution_count": 3,
   "metadata": {},
   "outputs": [
    {
     "name": "stdout",
     "output_type": "stream",
     "text": [
      "### INVOKED RAG FUNCTIONALITY ###\n",
      "### SEARCHING FOR `insuline resistance medicine`\n",
      "[(1832, 'Since impaired glucose tolerance (IGT) is a major risk factor for \\nnon-insulin-dependent diabetes mellitus (NIDDM), some kinds of intervention \\naiming to prevent or to delay the onset of NIDDM in subjects with IGT might be \\nconsidered. Besides life style modification, drug therapy which could correct \\ninsulin deficiency and insulin resistance, might prevent progression to NIDDM. \\nOne agent is an alpha-glucosidase inhibitor, which delays the absorption of \\nglucose from the intestine. The resulting decrease in postprandial hyperglycemia \\nand hyperinsulinemia could theoretically decrease insulin resistance in IGT \\nsubjects and, it is hoped, prevent or delay progression to NIDDM. Metformin, an \\nantihyperglycemic drug of the biguanide class, may be effective in subjects with \\nIGT by reducing hepatic glucose output, enhancing insulin sensitivity, or \\nthrough other mechanisms such as weight loss. New insulin sensitizers, such as \\ntroglitazone and pioglitazone, improve insulin-mediated glucose disposal by \\nenhancing tissue sensitivity to the actions of insulin and reversing the insulin \\nresistance, characteristic of NIDDM. Sulfonylureas might be another candidates \\nof drug intervention to IGT whose insulin secretory abilities are markedly \\nreduced. As far as the question, \"Can NIDDM be prevented or delayed?\" is \\nconcerned, a prospective study using life style modification or above-mentioned \\ndrugs, should be performed on long-term basis.', 0.6181595781387035), (5280, 'Insulin resistance is a major endocrinopathy underlying the development of \\nhyperglycaemia and cardiovascular disease in type 2 diabetes. Metformin (a \\nbiguanide) and rosiglitazone (a thiazolidinedione) counter insulin resistance, \\nacting by different cellular mechanisms. The two agents can be used in \\ncombination to achieve additive glucose-lowering efficacy in the treatment of \\ntype 2 diabetes, without stimulating insulin secretion and without causing \\nhypoglycaemia. Both agents also reduce a range of atherothrombotic factors and \\nmarkers, indicating a lower cardiovascular risk. Early intervention with \\nmetformin is already known to reduce myocardial infarction and increase survival \\nin overweight type 2 patients. Recently, a single-tablet combination of \\nmetformin and rosiglitazone, Avandamet, has become available. Avandamet is \\nsuitable for type 2 diabetic patients who are inadequately controlled by \\nmonotherapy with metformin or rosiglitazone. Patients already receiving separate \\ntablets of metformin and rosiglitazone may switch to the single-tablet \\ncombination for convenience. Also, early introduction of the combination before \\nmaximal titration of one agent can reduce side effects. Use of Avandamet \\nrequires attention to the precautions for both metformin and rosiglitazone, \\nespecially renal, cardiac and hepatic competence. In summary, Avandamet is a \\nsingle-tablet metformin-rosiglitazone combination that doubly targets insulin \\nresistance as therapy for hyperglycaemia and vascular risk in type 2 diabetes.', 0.5989657271953809), (4284, 'Resistin is a recently discovered hormone that is exclusively expressed in \\nadipose tissue. Its expression in rodents was reported to be elevated or \\nsuppressed in genetic and diet-induced obesity, respectively. Resistin treatment \\nimpaired glucose tolerance and insulin action. Immunoneutralization of resistin \\nimproved insulin sensitivity, while thiazolidinedione treatment reduced resistin \\nexpression. Therefore, resistin could play a critical role in the development of \\nobesity and type 2 diabetes. In this study were determined resistin plasma \\nlevels in humans suffering from type 1 and type 2 diabetes and in healthy \\ncontrols. Plasma levels of resistin in healthy controls were 38.78 ng/ml. They \\nwere not statistically different in individuals with a broad BMI range. Resistin \\nplasma levels in type 2 diabetes were 38.7 ng/ml, and 39.4 ng/ml in type 1 \\ndiabetes. Thiazolidinedione treatment did not influence resistin plasma levels. \\nWe conclude from our data: 1. resistin can be detected in human plasma, 2. \\nplasma resistin levels are not different in type 1 and type 2 diabetes.', 0.5779066875859906)]\n",
      "### GATHERING TOP 3 RELEVANT FOUND\n",
      "The discoverer behind insulin resistance medicine is Frederick Banting, and the year discovered is 1921.\n"
     ]
    },
    {
     "data": {
      "text/plain": [
       "'The discoverer behind insulin resistance medicine is Frederick Banting, and the year discovered is 1921.'"
      ]
     },
     "execution_count": 3,
     "metadata": {},
     "output_type": "execute_result"
    }
   ],
   "source": [
    "chatbot(\"I want to find out who is the discoverer behind insuline resistance medicine and the year discovered.\")"
   ]
  },
  {
   "cell_type": "code",
   "execution_count": 5,
   "metadata": {},
   "outputs": [
    {
     "data": {
      "text/plain": [
       "'I was trained on a vast amount of text data, which allows me to provide information on a wide range of topics.'"
      ]
     },
     "execution_count": 5,
     "metadata": {},
     "output_type": "execute_result"
    }
   ],
   "source": [
    "chatbot(\"How do you know so much?\")"
   ]
  }
 ],
 "metadata": {
  "kernelspec": {
   "display_name": "Python 3",
   "language": "python",
   "name": "python3"
  },
  "language_info": {
   "codemirror_mode": {
    "name": "ipython",
    "version": 3
   },
   "file_extension": ".py",
   "mimetype": "text/x-python",
   "name": "python",
   "nbconvert_exporter": "python",
   "pygments_lexer": "ipython3",
   "version": "3.12.7"
  }
 },
 "nbformat": 4,
 "nbformat_minor": 2
}
